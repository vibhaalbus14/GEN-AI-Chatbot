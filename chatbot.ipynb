{
 "cells": [
  {
   "cell_type": "code",
   "execution_count": 6,
   "id": "fdc3059b-c39c-438b-a360-e779224d853f",
   "metadata": {},
   "outputs": [],
   "source": [
    "from dotenv import load_dotenv,find_dotenv\n",
    "from langchain_groq import ChatGroq\n",
    "import os\n",
    "# _=load_dotenv(find_dotenv())\n",
    "# groq_api_key=os.getenv('GROQ_API_KEY')"
   ]
  },
  {
   "cell_type": "code",
   "execution_count": 7,
   "id": "70ccbeaa-8d3a-40dd-b7a5-457ba048eb00",
   "metadata": {},
   "outputs": [],
   "source": [
    "from langchain_groq import ChatGroq\n",
    "# dotenv_path=find_dotenv()\n",
    "# if dotenv_path:\n",
    "#     load_dotenv(dotenv_path)\n",
    "#     print(f\"path of env at {dotenv_path}\")\n",
    "# else:\n",
    "#     print(\"path not found\")\n",
    "# groq_api_key=os.getenv(\"GROQ_API_KEY\")\n",
    "# if groq_api_key:\n",
    "#     print(f\"the key is {groq_api_key}\")\n",
    "# else:\n",
    "#     print(\"value not initialized\")\n",
    "model=ChatGroq(model=\"mixtral-8x7b-32768\",api_key=os.getenv(\"GROQ_API_KEY\"),temperature=0.3)"
   ]
  },
  {
   "cell_type": "code",
   "execution_count": 8,
   "id": "c9c1e847-05c5-4c1a-83e5-499f0700d1be",
   "metadata": {},
   "outputs": [],
   "source": [
    "\n",
    "from langchain.memory import ConversationBufferMemory\n",
    "my_memory=ConversationBufferMemory(memory_key=\"memory_chain\")"
   ]
  },
  {
   "cell_type": "code",
   "execution_count": 9,
   "id": "a96a4b25-3bd3-46b5-98d1-d5d35d6a3bd1",
   "metadata": {},
   "outputs": [],
   "source": [
    "from langchain.prompts import (FewShotPromptTemplate,PromptTemplate)\n",
    "my_prompt='''you are a data structure and algorithms(DSA)  tutor .Guide the students appropriately in necessary\n",
    "                languages.\n",
    "                {memory_chain}\n",
    "              question={question}  \n",
    "        \n",
    "           \n",
    "            '''\n",
    "my_prompt_overall=PromptTemplate(input_variables=['memory_chain','question'],\n",
    "                         template=my_prompt)\n",
    "\n",
    "#my_examples=[{\"question\":\"what is a stack\",\n",
    "#             \"answer\":\"A Stack is a linear data structure that holds a linear, ordered sequence of elements. It is an abstract data type. A Stack works on the LIFO process (Last In First Out)\"},\n",
    "#            {\"question\":\"which is the efficient algorithm for array search\",\n",
    "#              \"answer\":\"ternary search can be more efficient than binary search when the array is vast,as it reduces the search space by two-thirds at each iteration.\"\n",
    "#             }]\n",
    "#\n",
    "#full_prompt=FewShotPromptTemplate(\n",
    "#                            examples=my_examples,\n",
    "#                            example_prompt=my_prompt2,\n",
    "#                            input_variables=['question','memory_chain'],\n",
    "#                            suffix=\"question={question}\")\n"
   ]
  },
  {
   "cell_type": "code",
   "execution_count": 10,
   "id": "156397be-5044-4c5c-9499-4b6c80ce57af",
   "metadata": {},
   "outputs": [
    {
     "name": "stderr",
     "output_type": "stream",
     "text": [
      "C:\\Users\\Vishruta\\anaconda3\\Lib\\site-packages\\langchain_core\\_api\\deprecation.py:139: LangChainDeprecationWarning: The class `LLMChain` was deprecated in LangChain 0.1.17 and will be removed in 0.3.0. Use RunnableSequence, e.g., `prompt | llm` instead.\n",
      "  warn_deprecated(\n"
     ]
    }
   ],
   "source": [
    "from langchain.chains import LLMChain\n",
    "\n",
    "#from langchain_core.runnables.base import RunnableSequence\n",
    "#chain=RunnableSequence(\n",
    "#              model=model,\n",
    "#             prompt=full_prompt,\n",
    "#            memory=memory,\n",
    "#           output_parser=StrOutputParser(),\n",
    "#          verbose=True\n",
    "#)\n",
    "chain=LLMChain(\n",
    "        llm=model,\n",
    "        memory=my_memory,\n",
    "        prompt=my_prompt_overall,\n",
    "        verbose=True\n",
    ")"
   ]
  },
  {
   "cell_type": "code",
   "execution_count": 14,
   "id": "49626f1a-df90-4351-a6b7-b7fcafc2dbc1",
   "metadata": {},
   "outputs": [
    {
     "name": "stdout",
     "output_type": "stream",
     "text": [
      "\n",
      "\n",
      "\u001b[1m> Entering new LLMChain chain...\u001b[0m\n",
      "Prompt after formatting:\n",
      "\u001b[32;1m\u001b[1;3myou are a data structure and algorithms(DSA)  tutor .Guide the students appropriately in necessary\n",
      "                languages.\n",
      "                Human: what is a queue?\n",
      "AI: Hello! I'd be happy to help you understand what a queue is in the context of data structures and algorithms.\n",
      "\n",
      "A queue is a linear data structure that follows the First-In-First-Out (FIFO) principle. This means that the first element that is added to the queue is also the first one to be removed.\n",
      "\n",
      "Imagine a queue of people waiting in line to buy tickets for a movie. The person who arrived first in line will be the first one to buy their ticket, followed by the person who arrived second, and so on. This is exactly how a queue works!\n",
      "\n",
      "In computer science, a queue can be implemented using an array or a linked list. A queue typically has two main operations: enqueue and dequeue.\n",
      "\n",
      "* Enqueue: This operation adds an element to the back of the queue.\n",
      "* Dequeue: This operation removes an element from the front of the queue and returns its value.\n",
      "\n",
      "Here's an example of how a queue might be implemented in Python:\n",
      "```python\n",
      "class Queue:\n",
      "    def __init__(self):\n",
      "        self.queue = []\n",
      "\n",
      "    def enqueue(self, item):\n",
      "        self.queue.append(item)\n",
      "\n",
      "    def dequeue(self):\n",
      "        if len(self.queue) < 1:\n",
      "            return None\n",
      "        return self.queue.pop(0)\n",
      "\n",
      "    def size(self):\n",
      "        return len(self.queue)\n",
      "```\n",
      "I hope that helps! Let me know if you have any further questions.\n",
      "Human: who is obama?\n",
      "AI: It seems like you've asked a question not directly related to data structures and algorithms. However, I can certainly help you with that as well!\n",
      "\n",
      "Barack Obama is an American politician who served as the 44th President of the United States from January 20, 2009, to January 20, 2017. He was the first African American to hold the office of President in the history of the United States. Before becoming President, Obama served as a senator representing the state of Illinois from 2005 to 2008. He was awarded the Nobel Peace Prize in 2009 for his efforts to strengthen international diplomacy and cooperation between peoples.\n",
      "\n",
      "Let me know if you have any further questions or if you would like to go back to discussing data structures and algorithms!\n",
      "Human: linked lists explanation?\n",
      "AI: Of course! I'd be happy to help you understand linked lists.\n",
      "\n",
      "A linked list is a linear data structure, like an array, but instead of elements being stored at contiguous memory locations, each element (or node) of a linked list is linked to the next one using pointers. This makes linked lists a dynamic data structure, as they can grow or shrink during execution of a program.\n",
      "\n",
      "There are different types of linked lists, but the most basic one is a singly linked list. Each node in a singly linked list contains two things: data and a pointer to the next node.\n",
      "\n",
      "Here's an example of how a singly linked list might be implemented in Python:\n",
      "```python\n",
      "class Node:\n",
      "    def __init__(self, data=None):\n",
      "        self.data = data\n",
      "        self.next = None\n",
      "\n",
      "class LinkedList:\n",
      "    def __init__(self):\n",
      "        self.head = None\n",
      "\n",
      "    def insert(self, data):\n",
      "        new_node = Node(data)\n",
      "        if not self.head:\n",
      "            self.head = new_node\n",
      "        else:\n",
      "            current = self.head\n",
      "            while current.next:\n",
      "                current = current.next\n",
      "            current.next = new_node\n",
      "\n",
      "    def print_list(self):\n",
      "        current = self.head\n",
      "        while current:\n",
      "            print(current.data)\n",
      "            current = current.next\n",
      "```\n",
      "In this example, the `Node` class represents a single node in the linked list, with an optional `data` attribute and a `next` attribute that points to the next node. The `LinkedList` class contains a `head` attribute that points to the first node in the list, as well as methods for inserting new nodes (`insert`) and printing out the contents of the list (`print_list`).\n",
      "\n",
      "I hope that helps! Let me know if you have any further questions.\n",
      "              question=tell me a joke?  \n",
      "        \n",
      "           \n",
      "            \u001b[0m\n",
      "\n",
      "\u001b[1m> Finished chain.\u001b[0m\n"
     ]
    },
    {
     "data": {
      "text/plain": [
       "\"Of course, I'd be happy to share a joke with you! Here's one:\\n\\nWhy don't programmers like nature?\\n\\nIt has too many bugs!\\n\\nI hope that brought a smile to your face. If you have any more questions about data structures, algorithms, or anything else, just let me know!\""
      ]
     },
     "execution_count": 14,
     "metadata": {},
     "output_type": "execute_result"
    }
   ],
   "source": [
    "user_input=\"what is a mongoose?\"\n",
    "chain.predict(question=user_input)"
   ]
  }
 ],
 "metadata": {
  "kernelspec": {
   "display_name": "Python 3 (ipykernel)",
   "language": "python",
   "name": "python3"
  }
 },
 "nbformat": 4,
 "nbformat_minor": 5
}
